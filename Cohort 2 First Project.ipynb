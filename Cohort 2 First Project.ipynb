{
 "cells": [
  {
   "cell_type": "markdown",
   "metadata": {},
   "source": [
    "Michael, Jonathan, and Angifer"
   ]
  },
  {
   "cell_type": "markdown",
   "metadata": {},
   "source": [
    "Write a program to keep track of Mr. E's library."
   ]
  },
  {
   "cell_type": "markdown",
   "metadata": {},
   "source": [
    "Specifications\n",
    "\n",
    "1. Must be able to track books as checked in or out.\n",
    "\n",
    "2. Must keep track of which student has borrowed which book.\n",
    "\n",
    "3. When the book is returned, the program should update the status of the book\n",
    "\n",
    "4. The data should be persistant, when the program is closed it should not forget everything."
   ]
  },
  {
   "cell_type": "code",
   "execution_count": 4,
   "metadata": {
    "collapsed": false
   },
   "outputs": [
    {
     "ename": "SyntaxError",
     "evalue": "invalid syntax (<ipython-input-4-4974d1a808dc>, line 7)",
     "output_type": "error",
     "traceback": [
      "\u001b[1;36m  File \u001b[1;32m\"<ipython-input-4-4974d1a808dc>\"\u001b[1;36m, line \u001b[1;32m7\u001b[0m\n\u001b[1;33m    print checked_out == input('Input ID:')\u001b[0m\n\u001b[1;37m                    ^\u001b[0m\n\u001b[1;31mSyntaxError\u001b[0m\u001b[1;31m:\u001b[0m invalid syntax\n"
     ]
    }
   ],
   "source": [
    "class Book:\n",
    "    def __init__ (self, title, checked_out = 'none'):\n",
    "        self.title = title\n",
    "        self.checked_out = checked_out\n",
    "    def checkout(self, title):\n",
    "        if checked_out == 'none':\n",
    "            print checked_out = input('Input ID:')\n"
   ]
  },
  {
   "cell_type": "code",
   "execution_count": null,
   "metadata": {
    "collapsed": true
   },
   "outputs": [],
   "source": []
  }
 ],
 "metadata": {
  "kernelspec": {
   "display_name": "Python 3",
   "language": "python",
   "name": "python3"
  },
  "language_info": {
   "codemirror_mode": {
    "name": "ipython",
    "version": 3
   },
   "file_extension": ".py",
   "mimetype": "text/x-python",
   "name": "python",
   "nbconvert_exporter": "python",
   "pygments_lexer": "ipython3",
   "version": "3.4.4"
  }
 },
 "nbformat": 4,
 "nbformat_minor": 0
}
